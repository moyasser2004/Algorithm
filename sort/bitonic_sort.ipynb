{
 "cells": [
  {
   "cell_type": "code",
   "execution_count": 2,
   "metadata": {},
   "outputs": [],
   "source": [
    "def comp_and_swap(a, i, j, dire):\n",
    "    if (dire == 1 and a[i] > a[j]) or (dire == 0 and a[i] < a[j]):\n",
    "        a[i], a[j] = a[j], a[i]\n",
    "\n",
    "def bitonic_merge(a, low, cnt, dire):\n",
    "    if cnt > 1:\n",
    "        k = cnt // 2\n",
    "        for i in range(low, low + k):\n",
    "            comp_and_swap(a, i, i + k, dire)\n",
    "        bitonic_merge(a, low, k, dire)\n",
    "        bitonic_merge(a, low + k, k, dire)\n",
    "\n",
    "def bitonic_sort(a, low, cnt, dire):\n",
    "    if cnt > 1:\n",
    "        k = cnt // 2\n",
    "        bitonic_sort(a, low, k, 1)  \n",
    "        bitonic_sort(a, low + k, k, 0)  \n",
    "        bitonic_merge(a, low, cnt, dire)\n",
    "\n",
    "\n",
    "def sort(a, n, up):\n",
    "    bitonic_sort(a, 0, n, up)"
   ]
  },
  {
   "cell_type": "code",
   "execution_count": 7,
   "metadata": {},
   "outputs": [
    {
     "name": "stdout",
     "output_type": "stream",
     "text": [
      "Sorted array is: [8, 7, 6, 5, 4, 3, 2, 1]\n"
     ]
    }
   ],
   "source": [
    "arr = [3, 7, 4, 8, 6, 2, 1, 5]\n",
    "up = 1  # 1 for ascending order, 0 for descending order\n",
    "sort(arr, len(arr), up)\n",
    "print(\"Sorted array is:\", arr)"
   ]
  },
  {
   "cell_type": "code",
   "execution_count": null,
   "metadata": {},
   "outputs": [],
   "source": []
  }
 ],
 "metadata": {
  "kernelspec": {
   "display_name": "Python 3",
   "language": "python",
   "name": "python3"
  },
  "language_info": {
   "codemirror_mode": {
    "name": "ipython",
    "version": 3
   },
   "file_extension": ".py",
   "mimetype": "text/x-python",
   "name": "python",
   "nbconvert_exporter": "python",
   "pygments_lexer": "ipython3",
   "version": "3.12.2"
  }
 },
 "nbformat": 4,
 "nbformat_minor": 2
}
