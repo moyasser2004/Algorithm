{
 "cells": [
  {
   "cell_type": "code",
   "execution_count": 19,
   "metadata": {},
   "outputs": [],
   "source": [
    "\n",
    "def binary_insertion_sort(collection):\n",
    "    \n",
    "    for i in range(1, len(collection)):\n",
    "        \n",
    "        value_to_insert = collection[i]\n",
    "        l = 0\n",
    "        r = i - 1\n",
    "\n",
    "        while l <= r:\n",
    "            mid = (l + r) // 2\n",
    "            \n",
    "            if value_to_insert < collection[mid]:\n",
    "                r = mid - 1\n",
    "            else:\n",
    "                l = mid + 1\n",
    "                \n",
    "    \n",
    "        for j in range(i, l, -1):\n",
    "            collection[j] = collection[j - 1]\n",
    "        collection[l] = value_to_insert\n",
    "\n",
    "    return collection"
   ]
  },
  {
   "cell_type": "code",
   "execution_count": 20,
   "metadata": {},
   "outputs": [
    {
     "name": "stdout",
     "output_type": "stream",
     "text": [
      "binary_insertion_sort(unsorted) = [-1, 2, 3, 5, 10]\n"
     ]
    }
   ],
   "source": [
    "user_input = input(\"Enter numbers separated by a comma:\\n\").strip()\n",
    "try:\n",
    "    unsorted = [int(item) for item in user_input.split(\",\")]\n",
    "except ValueError:\n",
    "    print(\"Invalid input. Please enter valid integers separated by commas.\")\n",
    "    raise\n",
    "print(f\"{binary_insertion_sort(unsorted) = }\")"
   ]
  },
  {
   "cell_type": "code",
   "execution_count": null,
   "metadata": {},
   "outputs": [],
   "source": []
  }
 ],
 "metadata": {
  "kernelspec": {
   "display_name": "Python 3",
   "language": "python",
   "name": "python3"
  },
  "language_info": {
   "codemirror_mode": {
    "name": "ipython",
    "version": 3
   },
   "file_extension": ".py",
   "mimetype": "text/x-python",
   "name": "python",
   "nbconvert_exporter": "python",
   "pygments_lexer": "ipython3",
   "version": "3.12.2"
  }
 },
 "nbformat": 4,
 "nbformat_minor": 2
}
